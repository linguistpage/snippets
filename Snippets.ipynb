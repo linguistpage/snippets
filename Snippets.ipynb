{
 "cells": [
  {
   "cell_type": "markdown",
   "metadata": {},
   "source": [
    "### Use the magic method %timeit of Jupyter Notebook to evaluate time"
   ]
  },
  {
   "cell_type": "code",
   "execution_count": 1,
   "metadata": {},
   "outputs": [
    {
     "name": "stdout",
     "output_type": "stream",
     "text": [
      "6.78 ns ± 0.754 ns per loop (mean ± std. dev. of 7 runs, 100000000 loops each)\n"
     ]
    }
   ],
   "source": [
    "%timeit 2+2"
   ]
  },
  {
   "cell_type": "code",
   "execution_count": 4,
   "metadata": {},
   "outputs": [
    {
     "name": "stdout",
     "output_type": "stream",
     "text": [
      "137 ns ± 30.2 ns per loop (mean ± std. dev. of 7 runs, 10000000 loops each)\n",
      "206 ns ± 29.6 ns per loop (mean ± std. dev. of 7 runs, 10000000 loops each)\n"
     ]
    }
   ],
   "source": [
    "str1 = 'I use python'\n",
    "str2 = 'They use python'\n",
    "\n",
    "def func1(st1, st2):\n",
    "    st3 = st1 + st2\n",
    "    return st3\n",
    "    \n",
    "def func2(st1, st2):\n",
    "    st3 = ' '.join([st1, st2])\n",
    "    return st3\n",
    "\n",
    "%timeit func1(str1,str2)\n",
    "%timeit func2(str1, str2)"
   ]
  },
  {
   "cell_type": "markdown",
   "metadata": {},
   "source": [
    "### Find words around a specific word using n-grams"
   ]
  },
  {
   "cell_type": "code",
   "execution_count": 5,
   "metadata": {},
   "outputs": [
    {
     "data": {
      "text/plain": [
       "[('يعتبر', 'مرض'), ('مرض', 'سريع')]"
      ]
     },
     "execution_count": 5,
     "metadata": {},
     "output_type": "execute_result"
    }
   ],
   "source": [
    "import nltk\n",
    "from nltk import ngrams\n",
    "\n",
    "\n",
    "def ngram_func(doc, word , n):\n",
    "    tokens = doc.split()\n",
    "    all_ngrams = ngrams(tokens, n)\n",
    "    ref_ngrams = [x for x in all_ngrams if word in x]\n",
    "    return ref_ngrams\n",
    "\n",
    "sent = 'فيروس كورونا يعتبر مرض سريع الإنتشار'\n",
    "keyWord = 'مرض'\n",
    "\n",
    "ngram_func(sent, keyWord, 2)"
   ]
  },
  {
   "cell_type": "markdown",
   "metadata": {},
   "source": [
    "### Open Text File"
   ]
  },
  {
   "cell_type": "code",
   "execution_count": 7,
   "metadata": {},
   "outputs": [],
   "source": [
    "sent = open(\"C://Users/Tarek/Desktop/python.txt\",encoding = \"utf-8\").read()"
   ]
  },
  {
   "cell_type": "markdown",
   "metadata": {},
   "source": [
    "### import a local Library"
   ]
  },
  {
   "cell_type": "code",
   "execution_count": 8,
   "metadata": {},
   "outputs": [],
   "source": [
    "import os\n",
    "import sys\n",
    "sys.path.insert(0, os.path.abspath('C://Users/Tarek/Downloads/Compressed/Arabycia-master'))\n",
    "import Arabycia"
   ]
  },
  {
   "cell_type": "markdown",
   "metadata": {},
   "source": [
    "### Know jupyter Versions"
   ]
  },
  {
   "cell_type": "code",
   "execution_count": 9,
   "metadata": {},
   "outputs": [
    {
     "name": "stdout",
     "output_type": "stream",
     "text": [
      "3.7.4 (default, Aug  9 2019, 18:34:13) [MSC v.1915 64 bit (AMD64)]\n"
     ]
    }
   ],
   "source": [
    "import sys\n",
    "print (sys.version)"
   ]
  },
  {
   "cell_type": "code",
   "execution_count": null,
   "metadata": {},
   "outputs": [],
   "source": []
  }
 ],
 "metadata": {
  "kernelspec": {
   "display_name": "Python 3",
   "language": "python",
   "name": "python3"
  },
  "language_info": {
   "codemirror_mode": {
    "name": "ipython",
    "version": 3
   },
   "file_extension": ".py",
   "mimetype": "text/x-python",
   "name": "python",
   "nbconvert_exporter": "python",
   "pygments_lexer": "ipython3",
   "version": "3.7.4"
  }
 },
 "nbformat": 4,
 "nbformat_minor": 2
}
